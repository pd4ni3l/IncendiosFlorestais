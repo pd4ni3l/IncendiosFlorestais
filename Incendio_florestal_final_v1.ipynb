{
  "nbformat": 4,
  "nbformat_minor": 0,
  "metadata": {
    "colab": {
      "name": "Incendio_florestal_final_v1.ipynb",
      "version": "0.3.2",
      "provenance": [],
      "collapsed_sections": [],
      "include_colab_link": true
    },
    "kernelspec": {
      "display_name": "Python 3",
      "language": "python",
      "name": "python3"
    }
  },
  "cells": [
    {
      "cell_type": "markdown",
      "metadata": {
        "id": "view-in-github",
        "colab_type": "text"
      },
      "source": [
        "<a href=\"https://colab.research.google.com/github/pd4ni3l/IncendiosFlorestais/blob/master/Incendio_florestal_final_v1.ipynb\" target=\"_parent\"><img src=\"https://colab.research.google.com/assets/colab-badge.svg\" alt=\"Open In Colab\"/></a>"
      ]
    },
    {
      "metadata": {
        "collapsed": true,
        "id": "4KrvSXJE_m_I",
        "colab_type": "code",
        "outputId": "052618ba-4757-48b6-f07b-d19189d4ff4b",
        "colab": {
          "base_uri": "https://localhost:8080/",
          "height": 92
        }
      },
      "cell_type": "code",
      "source": [
        "#LISTAR ARQUIVOS NA PASTA CORRENTE\n",
        "from __future__ import print_function\n",
        "import os,sys\n",
        "path = '.' \n",
        "if len(sys.argv) == 2:\n",
        "    path = sys.argv[1]\n",
        " \n",
        "files = os.listdir(path)\n",
        "for name in files:\n",
        "    print(name)"
      ],
      "execution_count": 20,
      "outputs": [
        {
          "output_type": "stream",
          "text": [
            ".config\n",
            "sample_data\n"
          ],
          "name": "stdout"
        }
      ]
    },
    {
      "metadata": {
        "id": "ii5vdRl2V1h9",
        "colab_type": "text"
      },
      "cell_type": "markdown",
      "source": [
        "O código abaixo permite a conexão ao Google Drive de quem está executando para carregar arquivos ou gravar arquivos em um Notebook executado no Google Colab.\n",
        "\n",
        "Altere a linha que carrega o arquivo forestfires.csv para refletir a sua necessidade."
      ]
    },
    {
      "metadata": {
        "id": "5B8FCpzVUoHM",
        "colab_type": "code",
        "outputId": "0abf792d-8a92-4dea-b26b-f7050fd0a437",
        "colab": {
          "base_uri": "https://localhost:8080/",
          "height": 74
        }
      },
      "cell_type": "code",
      "source": [
        "from google.colab import drive\n",
        "drive.mount('/gdrive')"
      ],
      "execution_count": 21,
      "outputs": [
        {
          "output_type": "stream",
          "text": [
            "Drive already mounted at /gdrive; to attempt to forcibly remount, call drive.mount(\"/gdrive\", force_remount=True).\n"
          ],
          "name": "stdout"
        }
      ]
    },
    {
      "metadata": {
        "id": "bPrWedus_m_S",
        "colab_type": "code",
        "colab": {}
      },
      "cell_type": "code",
      "source": [
        "import pandas as pd\n",
        "import numpy as np\n",
        "import matplotlib.pyplot as plt\n",
        "import matplotlib.cm as cm\n",
        "\n",
        "from time import process_time\n",
        "from sklearn.neural_network import MLPClassifier\n",
        "from sklearn.metrics import confusion_matrix\n",
        "from sklearn.metrics import classification_report\n",
        "from sklearn.cluster import KMeans\n",
        "from sklearn import svm\n",
        "from sklearn.decomposition import PCA\n",
        "from sklearn.model_selection import train_test_split"
      ],
      "execution_count": 0,
      "outputs": []
    },
    {
      "metadata": {
        "id": "YSOkRspZ_m_W",
        "colab_type": "text"
      },
      "cell_type": "markdown",
      "source": [
        "# Sobre a base de dados\n",
        "A base de dados escolhida para o desenvolvimento do trabalho é originada do artigo \"A Data Mining Approach to Predict Forest Fires using Meteorological Data\" de Paulo Cortez e Aníbal Morais do \"Department of Information Systems/R&D Algoritmi Centre, University of Minho, 4800-058 Guimara ̃es, Portugal\" acessível no link http://www3.dsi.uminho.pt/pcortez/fires.pdf.\n",
        "\n",
        "\n",
        "# Links e outras informações:\n",
        "Base dados: https://archive.ics.uci.edu/ml/datasets/forest+fires \n",
        "\n",
        "Abstract: This is a difficult regression task, where the aim is to predict the burned area of forest fires, in the northeast region of Portugal, by using meteorological and other data. (http://www3.dsi.uminho.pt/pcortez/forestfires/)\n",
        "\n",
        "Resumo: Esta é uma tarefa de regressão difícil, onde o objetivo é prever a área queimada de incêndios florestais, na região nordeste de Portugal, usando dados meteorológicos e outros dados. (http://www3.dsi.uminho.pt/pcortez/forestfires/)"
      ]
    },
    {
      "metadata": {
        "id": "Ap2ONfRN_b8U",
        "colab_type": "text"
      },
      "cell_type": "markdown",
      "source": [
        "Carregando os dados e imprimindo os 10 primeiros registros (lembre-se de alterar o caminho para o local onde está o arquivo csv)."
      ]
    },
    {
      "metadata": {
        "id": "JY8U2780_m_Y",
        "colab_type": "code",
        "outputId": "5c31d829-4af3-4791-92db-d4e0c38f1313",
        "colab": {
          "base_uri": "https://localhost:8080/",
          "height": 394
        }
      },
      "cell_type": "code",
      "source": [
        "file_name = '/gdrive/My Drive/Colab Notebooks/forestfires.csv'\n",
        "data = pd.read_csv(file_name, sep=',')\n",
        "\n",
        "data.head(10)"
      ],
      "execution_count": 23,
      "outputs": [
        {
          "output_type": "execute_result",
          "data": {
            "text/html": [
              "<div>\n",
              "<style scoped>\n",
              "    .dataframe tbody tr th:only-of-type {\n",
              "        vertical-align: middle;\n",
              "    }\n",
              "\n",
              "    .dataframe tbody tr th {\n",
              "        vertical-align: top;\n",
              "    }\n",
              "\n",
              "    .dataframe thead th {\n",
              "        text-align: right;\n",
              "    }\n",
              "</style>\n",
              "<table border=\"1\" class=\"dataframe\">\n",
              "  <thead>\n",
              "    <tr style=\"text-align: right;\">\n",
              "      <th></th>\n",
              "      <th>X</th>\n",
              "      <th>Y</th>\n",
              "      <th>month</th>\n",
              "      <th>day</th>\n",
              "      <th>FFMC</th>\n",
              "      <th>DMC</th>\n",
              "      <th>DC</th>\n",
              "      <th>ISI</th>\n",
              "      <th>temp</th>\n",
              "      <th>RH</th>\n",
              "      <th>wind</th>\n",
              "      <th>rain</th>\n",
              "      <th>area</th>\n",
              "    </tr>\n",
              "  </thead>\n",
              "  <tbody>\n",
              "    <tr>\n",
              "      <th>0</th>\n",
              "      <td>7</td>\n",
              "      <td>5</td>\n",
              "      <td>mar</td>\n",
              "      <td>fri</td>\n",
              "      <td>86.2</td>\n",
              "      <td>26.2</td>\n",
              "      <td>94.3</td>\n",
              "      <td>5.1</td>\n",
              "      <td>8.2</td>\n",
              "      <td>51</td>\n",
              "      <td>6.7</td>\n",
              "      <td>0.0</td>\n",
              "      <td>0.0</td>\n",
              "    </tr>\n",
              "    <tr>\n",
              "      <th>1</th>\n",
              "      <td>7</td>\n",
              "      <td>4</td>\n",
              "      <td>oct</td>\n",
              "      <td>tue</td>\n",
              "      <td>90.6</td>\n",
              "      <td>35.4</td>\n",
              "      <td>669.1</td>\n",
              "      <td>6.7</td>\n",
              "      <td>18.0</td>\n",
              "      <td>33</td>\n",
              "      <td>0.9</td>\n",
              "      <td>0.0</td>\n",
              "      <td>0.0</td>\n",
              "    </tr>\n",
              "    <tr>\n",
              "      <th>2</th>\n",
              "      <td>7</td>\n",
              "      <td>4</td>\n",
              "      <td>oct</td>\n",
              "      <td>sat</td>\n",
              "      <td>90.6</td>\n",
              "      <td>43.7</td>\n",
              "      <td>686.9</td>\n",
              "      <td>6.7</td>\n",
              "      <td>14.6</td>\n",
              "      <td>33</td>\n",
              "      <td>1.3</td>\n",
              "      <td>0.0</td>\n",
              "      <td>0.0</td>\n",
              "    </tr>\n",
              "    <tr>\n",
              "      <th>3</th>\n",
              "      <td>8</td>\n",
              "      <td>6</td>\n",
              "      <td>mar</td>\n",
              "      <td>fri</td>\n",
              "      <td>91.7</td>\n",
              "      <td>33.3</td>\n",
              "      <td>77.5</td>\n",
              "      <td>9.0</td>\n",
              "      <td>8.3</td>\n",
              "      <td>97</td>\n",
              "      <td>4.0</td>\n",
              "      <td>0.2</td>\n",
              "      <td>0.0</td>\n",
              "    </tr>\n",
              "    <tr>\n",
              "      <th>4</th>\n",
              "      <td>8</td>\n",
              "      <td>6</td>\n",
              "      <td>mar</td>\n",
              "      <td>sun</td>\n",
              "      <td>89.3</td>\n",
              "      <td>51.3</td>\n",
              "      <td>102.2</td>\n",
              "      <td>9.6</td>\n",
              "      <td>11.4</td>\n",
              "      <td>99</td>\n",
              "      <td>1.8</td>\n",
              "      <td>0.0</td>\n",
              "      <td>0.0</td>\n",
              "    </tr>\n",
              "    <tr>\n",
              "      <th>5</th>\n",
              "      <td>8</td>\n",
              "      <td>6</td>\n",
              "      <td>aug</td>\n",
              "      <td>sun</td>\n",
              "      <td>92.3</td>\n",
              "      <td>85.3</td>\n",
              "      <td>488.0</td>\n",
              "      <td>14.7</td>\n",
              "      <td>22.2</td>\n",
              "      <td>29</td>\n",
              "      <td>5.4</td>\n",
              "      <td>0.0</td>\n",
              "      <td>0.0</td>\n",
              "    </tr>\n",
              "    <tr>\n",
              "      <th>6</th>\n",
              "      <td>8</td>\n",
              "      <td>6</td>\n",
              "      <td>aug</td>\n",
              "      <td>mon</td>\n",
              "      <td>92.3</td>\n",
              "      <td>88.9</td>\n",
              "      <td>495.6</td>\n",
              "      <td>8.5</td>\n",
              "      <td>24.1</td>\n",
              "      <td>27</td>\n",
              "      <td>3.1</td>\n",
              "      <td>0.0</td>\n",
              "      <td>0.0</td>\n",
              "    </tr>\n",
              "    <tr>\n",
              "      <th>7</th>\n",
              "      <td>8</td>\n",
              "      <td>6</td>\n",
              "      <td>aug</td>\n",
              "      <td>mon</td>\n",
              "      <td>91.5</td>\n",
              "      <td>145.4</td>\n",
              "      <td>608.2</td>\n",
              "      <td>10.7</td>\n",
              "      <td>8.0</td>\n",
              "      <td>86</td>\n",
              "      <td>2.2</td>\n",
              "      <td>0.0</td>\n",
              "      <td>0.0</td>\n",
              "    </tr>\n",
              "    <tr>\n",
              "      <th>8</th>\n",
              "      <td>8</td>\n",
              "      <td>6</td>\n",
              "      <td>sep</td>\n",
              "      <td>tue</td>\n",
              "      <td>91.0</td>\n",
              "      <td>129.5</td>\n",
              "      <td>692.6</td>\n",
              "      <td>7.0</td>\n",
              "      <td>13.1</td>\n",
              "      <td>63</td>\n",
              "      <td>5.4</td>\n",
              "      <td>0.0</td>\n",
              "      <td>0.0</td>\n",
              "    </tr>\n",
              "    <tr>\n",
              "      <th>9</th>\n",
              "      <td>7</td>\n",
              "      <td>5</td>\n",
              "      <td>sep</td>\n",
              "      <td>sat</td>\n",
              "      <td>92.5</td>\n",
              "      <td>88.0</td>\n",
              "      <td>698.6</td>\n",
              "      <td>7.1</td>\n",
              "      <td>22.8</td>\n",
              "      <td>40</td>\n",
              "      <td>4.0</td>\n",
              "      <td>0.0</td>\n",
              "      <td>0.0</td>\n",
              "    </tr>\n",
              "  </tbody>\n",
              "</table>\n",
              "</div>"
            ],
            "text/plain": [
              "   X  Y month  day  FFMC    DMC     DC   ISI  temp  RH  wind  rain  area\n",
              "0  7  5   mar  fri  86.2   26.2   94.3   5.1   8.2  51   6.7   0.0   0.0\n",
              "1  7  4   oct  tue  90.6   35.4  669.1   6.7  18.0  33   0.9   0.0   0.0\n",
              "2  7  4   oct  sat  90.6   43.7  686.9   6.7  14.6  33   1.3   0.0   0.0\n",
              "3  8  6   mar  fri  91.7   33.3   77.5   9.0   8.3  97   4.0   0.2   0.0\n",
              "4  8  6   mar  sun  89.3   51.3  102.2   9.6  11.4  99   1.8   0.0   0.0\n",
              "5  8  6   aug  sun  92.3   85.3  488.0  14.7  22.2  29   5.4   0.0   0.0\n",
              "6  8  6   aug  mon  92.3   88.9  495.6   8.5  24.1  27   3.1   0.0   0.0\n",
              "7  8  6   aug  mon  91.5  145.4  608.2  10.7   8.0  86   2.2   0.0   0.0\n",
              "8  8  6   sep  tue  91.0  129.5  692.6   7.0  13.1  63   5.4   0.0   0.0\n",
              "9  7  5   sep  sat  92.5   88.0  698.6   7.1  22.8  40   4.0   0.0   0.0"
            ]
          },
          "metadata": {
            "tags": []
          },
          "execution_count": 23
        }
      ]
    },
    {
      "metadata": {
        "id": "oP-DSWCA_m_d",
        "colab_type": "text"
      },
      "cell_type": "markdown",
      "source": [
        "# Descrição dos atributos\n",
        "X - coordenada espacial do eixo x no mapa do parque de Montesinho: 1 a 9<br>\n",
        "Y - coordenada espacial do eixo y no mapa do parque de Montesinho: 1 a 9<br>\n",
        "month - mês do ano: 'jan' a 'dec'<br>\n",
        "day - dia da semana: 'mon' to 'sun'<br>\n",
        "FFMC - Índice FFMC do sistema FWI (Canadian Forest Fire Weather Index): 18,7 a 96,20<br>\n",
        "DMC - Índice DMC do sistema FWI: 1.1 a 291.3<br>\n",
        "DC - Índice DC do sistema FWI: 7,9 a 860,6<br>\n",
        "ISI - Índice ISI do sistema FWI: 0.0 a 56.10<br>\n",
        "temp - temperatura em graus Celsius, 2,2-33,30<br>\n",
        "RH - umidade relativa em%: 15,0 a 100<br>\n",
        "wind - velocidade do vento em km / h: 0.40 a 9.40<br>\n",
        "rain - chuva externa em mm / m2: 0.0 a 6.4<br>\n",
        "área - a área queimada da floresta (em ha): 0.00 a 1090.84"
      ]
    },
    {
      "metadata": {
        "id": "uFJ_T6Q8_7Qz",
        "colab_type": "text"
      },
      "cell_type": "markdown",
      "source": [
        "Imprimindo o formato dos dados (517 linhas e 13 colunas)"
      ]
    },
    {
      "metadata": {
        "id": "I5uIQtFFdCCU",
        "colab_type": "code",
        "outputId": "bb18fef5-c0d6-4f5d-f47a-fdb61578698d",
        "colab": {
          "base_uri": "https://localhost:8080/",
          "height": 74
        }
      },
      "cell_type": "code",
      "source": [
        "data.shape"
      ],
      "execution_count": 24,
      "outputs": [
        {
          "output_type": "execute_result",
          "data": {
            "text/plain": [
              "(517, 13)"
            ]
          },
          "metadata": {
            "tags": []
          },
          "execution_count": 24
        }
      ]
    },
    {
      "metadata": {
        "id": "JUP2XAWWAOmz",
        "colab_type": "text"
      },
      "cell_type": "markdown",
      "source": [
        "#Alterções necessárias\n",
        "Pra podermos analizar todos os dados é necessário converter os dados que estão como categoria para dados numéricos.\n",
        "Abaixo estamos demonstrando que a coluna mês (month)  e dia (day) é um campo alfanumérico e teremos que converter para  numérico."
      ]
    },
    {
      "metadata": {
        "id": "-yhupRK-_m_f",
        "colab_type": "code",
        "outputId": "e1d96c16-fac5-4106-f39c-abdb79c8cf2f",
        "colab": {
          "base_uri": "https://localhost:8080/",
          "height": 273
        }
      },
      "cell_type": "code",
      "source": [
        "data['month'].value_counts()"
      ],
      "execution_count": 25,
      "outputs": [
        {
          "output_type": "execute_result",
          "data": {
            "text/plain": [
              "aug    184\n",
              "sep    172\n",
              "mar     54\n",
              "jul     32\n",
              "feb     20\n",
              "jun     17\n",
              "oct     15\n",
              "dec      9\n",
              "apr      9\n",
              "jan      2\n",
              "may      2\n",
              "nov      1\n",
              "Name: month, dtype: int64"
            ]
          },
          "metadata": {
            "tags": []
          },
          "execution_count": 25
        }
      ]
    },
    {
      "metadata": {
        "id": "IbcxPhGW_m_k",
        "colab_type": "code",
        "outputId": "bbef12dd-a506-42ed-d7e6-903bd9982935",
        "colab": {
          "base_uri": "https://localhost:8080/",
          "height": 394
        }
      },
      "cell_type": "code",
      "source": [
        "# Convertendo meses alfanuméricos em numéricos\n",
        "# Criaremos um dicionário (dic) para fazer esta conversão  \n",
        "mes = {'jan': 1,'feb': 2, 'mar':3, 'apr': 4, 'may': 5, 'jun': 6, 'jul': 7, 'aug': 8, 'sep': 9, \n",
        "       'oct': 10, 'nov': 11, 'dec': 12} \n",
        "\n",
        "data.month = [mes[item] for item in data.month] \n",
        "data.head(10)"
      ],
      "execution_count": 26,
      "outputs": [
        {
          "output_type": "execute_result",
          "data": {
            "text/html": [
              "<div>\n",
              "<style scoped>\n",
              "    .dataframe tbody tr th:only-of-type {\n",
              "        vertical-align: middle;\n",
              "    }\n",
              "\n",
              "    .dataframe tbody tr th {\n",
              "        vertical-align: top;\n",
              "    }\n",
              "\n",
              "    .dataframe thead th {\n",
              "        text-align: right;\n",
              "    }\n",
              "</style>\n",
              "<table border=\"1\" class=\"dataframe\">\n",
              "  <thead>\n",
              "    <tr style=\"text-align: right;\">\n",
              "      <th></th>\n",
              "      <th>X</th>\n",
              "      <th>Y</th>\n",
              "      <th>month</th>\n",
              "      <th>day</th>\n",
              "      <th>FFMC</th>\n",
              "      <th>DMC</th>\n",
              "      <th>DC</th>\n",
              "      <th>ISI</th>\n",
              "      <th>temp</th>\n",
              "      <th>RH</th>\n",
              "      <th>wind</th>\n",
              "      <th>rain</th>\n",
              "      <th>area</th>\n",
              "    </tr>\n",
              "  </thead>\n",
              "  <tbody>\n",
              "    <tr>\n",
              "      <th>0</th>\n",
              "      <td>7</td>\n",
              "      <td>5</td>\n",
              "      <td>3</td>\n",
              "      <td>fri</td>\n",
              "      <td>86.2</td>\n",
              "      <td>26.2</td>\n",
              "      <td>94.3</td>\n",
              "      <td>5.1</td>\n",
              "      <td>8.2</td>\n",
              "      <td>51</td>\n",
              "      <td>6.7</td>\n",
              "      <td>0.0</td>\n",
              "      <td>0.0</td>\n",
              "    </tr>\n",
              "    <tr>\n",
              "      <th>1</th>\n",
              "      <td>7</td>\n",
              "      <td>4</td>\n",
              "      <td>10</td>\n",
              "      <td>tue</td>\n",
              "      <td>90.6</td>\n",
              "      <td>35.4</td>\n",
              "      <td>669.1</td>\n",
              "      <td>6.7</td>\n",
              "      <td>18.0</td>\n",
              "      <td>33</td>\n",
              "      <td>0.9</td>\n",
              "      <td>0.0</td>\n",
              "      <td>0.0</td>\n",
              "    </tr>\n",
              "    <tr>\n",
              "      <th>2</th>\n",
              "      <td>7</td>\n",
              "      <td>4</td>\n",
              "      <td>10</td>\n",
              "      <td>sat</td>\n",
              "      <td>90.6</td>\n",
              "      <td>43.7</td>\n",
              "      <td>686.9</td>\n",
              "      <td>6.7</td>\n",
              "      <td>14.6</td>\n",
              "      <td>33</td>\n",
              "      <td>1.3</td>\n",
              "      <td>0.0</td>\n",
              "      <td>0.0</td>\n",
              "    </tr>\n",
              "    <tr>\n",
              "      <th>3</th>\n",
              "      <td>8</td>\n",
              "      <td>6</td>\n",
              "      <td>3</td>\n",
              "      <td>fri</td>\n",
              "      <td>91.7</td>\n",
              "      <td>33.3</td>\n",
              "      <td>77.5</td>\n",
              "      <td>9.0</td>\n",
              "      <td>8.3</td>\n",
              "      <td>97</td>\n",
              "      <td>4.0</td>\n",
              "      <td>0.2</td>\n",
              "      <td>0.0</td>\n",
              "    </tr>\n",
              "    <tr>\n",
              "      <th>4</th>\n",
              "      <td>8</td>\n",
              "      <td>6</td>\n",
              "      <td>3</td>\n",
              "      <td>sun</td>\n",
              "      <td>89.3</td>\n",
              "      <td>51.3</td>\n",
              "      <td>102.2</td>\n",
              "      <td>9.6</td>\n",
              "      <td>11.4</td>\n",
              "      <td>99</td>\n",
              "      <td>1.8</td>\n",
              "      <td>0.0</td>\n",
              "      <td>0.0</td>\n",
              "    </tr>\n",
              "    <tr>\n",
              "      <th>5</th>\n",
              "      <td>8</td>\n",
              "      <td>6</td>\n",
              "      <td>8</td>\n",
              "      <td>sun</td>\n",
              "      <td>92.3</td>\n",
              "      <td>85.3</td>\n",
              "      <td>488.0</td>\n",
              "      <td>14.7</td>\n",
              "      <td>22.2</td>\n",
              "      <td>29</td>\n",
              "      <td>5.4</td>\n",
              "      <td>0.0</td>\n",
              "      <td>0.0</td>\n",
              "    </tr>\n",
              "    <tr>\n",
              "      <th>6</th>\n",
              "      <td>8</td>\n",
              "      <td>6</td>\n",
              "      <td>8</td>\n",
              "      <td>mon</td>\n",
              "      <td>92.3</td>\n",
              "      <td>88.9</td>\n",
              "      <td>495.6</td>\n",
              "      <td>8.5</td>\n",
              "      <td>24.1</td>\n",
              "      <td>27</td>\n",
              "      <td>3.1</td>\n",
              "      <td>0.0</td>\n",
              "      <td>0.0</td>\n",
              "    </tr>\n",
              "    <tr>\n",
              "      <th>7</th>\n",
              "      <td>8</td>\n",
              "      <td>6</td>\n",
              "      <td>8</td>\n",
              "      <td>mon</td>\n",
              "      <td>91.5</td>\n",
              "      <td>145.4</td>\n",
              "      <td>608.2</td>\n",
              "      <td>10.7</td>\n",
              "      <td>8.0</td>\n",
              "      <td>86</td>\n",
              "      <td>2.2</td>\n",
              "      <td>0.0</td>\n",
              "      <td>0.0</td>\n",
              "    </tr>\n",
              "    <tr>\n",
              "      <th>8</th>\n",
              "      <td>8</td>\n",
              "      <td>6</td>\n",
              "      <td>9</td>\n",
              "      <td>tue</td>\n",
              "      <td>91.0</td>\n",
              "      <td>129.5</td>\n",
              "      <td>692.6</td>\n",
              "      <td>7.0</td>\n",
              "      <td>13.1</td>\n",
              "      <td>63</td>\n",
              "      <td>5.4</td>\n",
              "      <td>0.0</td>\n",
              "      <td>0.0</td>\n",
              "    </tr>\n",
              "    <tr>\n",
              "      <th>9</th>\n",
              "      <td>7</td>\n",
              "      <td>5</td>\n",
              "      <td>9</td>\n",
              "      <td>sat</td>\n",
              "      <td>92.5</td>\n",
              "      <td>88.0</td>\n",
              "      <td>698.6</td>\n",
              "      <td>7.1</td>\n",
              "      <td>22.8</td>\n",
              "      <td>40</td>\n",
              "      <td>4.0</td>\n",
              "      <td>0.0</td>\n",
              "      <td>0.0</td>\n",
              "    </tr>\n",
              "  </tbody>\n",
              "</table>\n",
              "</div>"
            ],
            "text/plain": [
              "   X  Y  month  day  FFMC    DMC     DC   ISI  temp  RH  wind  rain  area\n",
              "0  7  5      3  fri  86.2   26.2   94.3   5.1   8.2  51   6.7   0.0   0.0\n",
              "1  7  4     10  tue  90.6   35.4  669.1   6.7  18.0  33   0.9   0.0   0.0\n",
              "2  7  4     10  sat  90.6   43.7  686.9   6.7  14.6  33   1.3   0.0   0.0\n",
              "3  8  6      3  fri  91.7   33.3   77.5   9.0   8.3  97   4.0   0.2   0.0\n",
              "4  8  6      3  sun  89.3   51.3  102.2   9.6  11.4  99   1.8   0.0   0.0\n",
              "5  8  6      8  sun  92.3   85.3  488.0  14.7  22.2  29   5.4   0.0   0.0\n",
              "6  8  6      8  mon  92.3   88.9  495.6   8.5  24.1  27   3.1   0.0   0.0\n",
              "7  8  6      8  mon  91.5  145.4  608.2  10.7   8.0  86   2.2   0.0   0.0\n",
              "8  8  6      9  tue  91.0  129.5  692.6   7.0  13.1  63   5.4   0.0   0.0\n",
              "9  7  5      9  sat  92.5   88.0  698.6   7.1  22.8  40   4.0   0.0   0.0"
            ]
          },
          "metadata": {
            "tags": []
          },
          "execution_count": 26
        }
      ]
    },
    {
      "metadata": {
        "id": "3leanZyt_m_p",
        "colab_type": "code",
        "outputId": "db6b3821-e5ad-44f3-93e3-d0db1202fcec",
        "colab": {
          "base_uri": "https://localhost:8080/",
          "height": 273
        }
      },
      "cell_type": "code",
      "source": [
        "#verificando a alteração dos meses\n",
        "data['month'].value_counts()"
      ],
      "execution_count": 27,
      "outputs": [
        {
          "output_type": "execute_result",
          "data": {
            "text/plain": [
              "8     184\n",
              "9     172\n",
              "3      54\n",
              "7      32\n",
              "2      20\n",
              "6      17\n",
              "10     15\n",
              "12      9\n",
              "4       9\n",
              "5       2\n",
              "1       2\n",
              "11      1\n",
              "Name: month, dtype: int64"
            ]
          },
          "metadata": {
            "tags": []
          },
          "execution_count": 27
        }
      ]
    },
    {
      "metadata": {
        "id": "6gV9dess_m_u",
        "colab_type": "code",
        "outputId": "f8958490-46cb-4b39-ef10-eb52c85c3fee",
        "colab": {
          "base_uri": "https://localhost:8080/",
          "height": 191
        }
      },
      "cell_type": "code",
      "source": [
        "data['day'].value_counts()"
      ],
      "execution_count": 28,
      "outputs": [
        {
          "output_type": "execute_result",
          "data": {
            "text/plain": [
              "sun    95\n",
              "fri    85\n",
              "sat    84\n",
              "mon    74\n",
              "tue    64\n",
              "thu    61\n",
              "wed    54\n",
              "Name: day, dtype: int64"
            ]
          },
          "metadata": {
            "tags": []
          },
          "execution_count": 28
        }
      ]
    },
    {
      "metadata": {
        "id": "_twIB5dS_m_1",
        "colab_type": "code",
        "outputId": "1c093f80-ee38-46dd-8367-b1e81a64c31c",
        "colab": {
          "base_uri": "https://localhost:8080/",
          "height": 394
        }
      },
      "cell_type": "code",
      "source": [
        "# Convertendo dias alfanuméricos em numéricos\n",
        "# criando um dicionário dic  \n",
        "dia = {'sun': 1, 'mon': 2, 'tue': 3, 'thu': 4, 'wed': 5, 'fri': 6, 'sat': 7} \n",
        "#print(data.month)\n",
        "data.day = [dia[item] for item in data.day] \n",
        "data.head(10)"
      ],
      "execution_count": 29,
      "outputs": [
        {
          "output_type": "execute_result",
          "data": {
            "text/html": [
              "<div>\n",
              "<style scoped>\n",
              "    .dataframe tbody tr th:only-of-type {\n",
              "        vertical-align: middle;\n",
              "    }\n",
              "\n",
              "    .dataframe tbody tr th {\n",
              "        vertical-align: top;\n",
              "    }\n",
              "\n",
              "    .dataframe thead th {\n",
              "        text-align: right;\n",
              "    }\n",
              "</style>\n",
              "<table border=\"1\" class=\"dataframe\">\n",
              "  <thead>\n",
              "    <tr style=\"text-align: right;\">\n",
              "      <th></th>\n",
              "      <th>X</th>\n",
              "      <th>Y</th>\n",
              "      <th>month</th>\n",
              "      <th>day</th>\n",
              "      <th>FFMC</th>\n",
              "      <th>DMC</th>\n",
              "      <th>DC</th>\n",
              "      <th>ISI</th>\n",
              "      <th>temp</th>\n",
              "      <th>RH</th>\n",
              "      <th>wind</th>\n",
              "      <th>rain</th>\n",
              "      <th>area</th>\n",
              "    </tr>\n",
              "  </thead>\n",
              "  <tbody>\n",
              "    <tr>\n",
              "      <th>0</th>\n",
              "      <td>7</td>\n",
              "      <td>5</td>\n",
              "      <td>3</td>\n",
              "      <td>6</td>\n",
              "      <td>86.2</td>\n",
              "      <td>26.2</td>\n",
              "      <td>94.3</td>\n",
              "      <td>5.1</td>\n",
              "      <td>8.2</td>\n",
              "      <td>51</td>\n",
              "      <td>6.7</td>\n",
              "      <td>0.0</td>\n",
              "      <td>0.0</td>\n",
              "    </tr>\n",
              "    <tr>\n",
              "      <th>1</th>\n",
              "      <td>7</td>\n",
              "      <td>4</td>\n",
              "      <td>10</td>\n",
              "      <td>3</td>\n",
              "      <td>90.6</td>\n",
              "      <td>35.4</td>\n",
              "      <td>669.1</td>\n",
              "      <td>6.7</td>\n",
              "      <td>18.0</td>\n",
              "      <td>33</td>\n",
              "      <td>0.9</td>\n",
              "      <td>0.0</td>\n",
              "      <td>0.0</td>\n",
              "    </tr>\n",
              "    <tr>\n",
              "      <th>2</th>\n",
              "      <td>7</td>\n",
              "      <td>4</td>\n",
              "      <td>10</td>\n",
              "      <td>7</td>\n",
              "      <td>90.6</td>\n",
              "      <td>43.7</td>\n",
              "      <td>686.9</td>\n",
              "      <td>6.7</td>\n",
              "      <td>14.6</td>\n",
              "      <td>33</td>\n",
              "      <td>1.3</td>\n",
              "      <td>0.0</td>\n",
              "      <td>0.0</td>\n",
              "    </tr>\n",
              "    <tr>\n",
              "      <th>3</th>\n",
              "      <td>8</td>\n",
              "      <td>6</td>\n",
              "      <td>3</td>\n",
              "      <td>6</td>\n",
              "      <td>91.7</td>\n",
              "      <td>33.3</td>\n",
              "      <td>77.5</td>\n",
              "      <td>9.0</td>\n",
              "      <td>8.3</td>\n",
              "      <td>97</td>\n",
              "      <td>4.0</td>\n",
              "      <td>0.2</td>\n",
              "      <td>0.0</td>\n",
              "    </tr>\n",
              "    <tr>\n",
              "      <th>4</th>\n",
              "      <td>8</td>\n",
              "      <td>6</td>\n",
              "      <td>3</td>\n",
              "      <td>1</td>\n",
              "      <td>89.3</td>\n",
              "      <td>51.3</td>\n",
              "      <td>102.2</td>\n",
              "      <td>9.6</td>\n",
              "      <td>11.4</td>\n",
              "      <td>99</td>\n",
              "      <td>1.8</td>\n",
              "      <td>0.0</td>\n",
              "      <td>0.0</td>\n",
              "    </tr>\n",
              "    <tr>\n",
              "      <th>5</th>\n",
              "      <td>8</td>\n",
              "      <td>6</td>\n",
              "      <td>8</td>\n",
              "      <td>1</td>\n",
              "      <td>92.3</td>\n",
              "      <td>85.3</td>\n",
              "      <td>488.0</td>\n",
              "      <td>14.7</td>\n",
              "      <td>22.2</td>\n",
              "      <td>29</td>\n",
              "      <td>5.4</td>\n",
              "      <td>0.0</td>\n",
              "      <td>0.0</td>\n",
              "    </tr>\n",
              "    <tr>\n",
              "      <th>6</th>\n",
              "      <td>8</td>\n",
              "      <td>6</td>\n",
              "      <td>8</td>\n",
              "      <td>2</td>\n",
              "      <td>92.3</td>\n",
              "      <td>88.9</td>\n",
              "      <td>495.6</td>\n",
              "      <td>8.5</td>\n",
              "      <td>24.1</td>\n",
              "      <td>27</td>\n",
              "      <td>3.1</td>\n",
              "      <td>0.0</td>\n",
              "      <td>0.0</td>\n",
              "    </tr>\n",
              "    <tr>\n",
              "      <th>7</th>\n",
              "      <td>8</td>\n",
              "      <td>6</td>\n",
              "      <td>8</td>\n",
              "      <td>2</td>\n",
              "      <td>91.5</td>\n",
              "      <td>145.4</td>\n",
              "      <td>608.2</td>\n",
              "      <td>10.7</td>\n",
              "      <td>8.0</td>\n",
              "      <td>86</td>\n",
              "      <td>2.2</td>\n",
              "      <td>0.0</td>\n",
              "      <td>0.0</td>\n",
              "    </tr>\n",
              "    <tr>\n",
              "      <th>8</th>\n",
              "      <td>8</td>\n",
              "      <td>6</td>\n",
              "      <td>9</td>\n",
              "      <td>3</td>\n",
              "      <td>91.0</td>\n",
              "      <td>129.5</td>\n",
              "      <td>692.6</td>\n",
              "      <td>7.0</td>\n",
              "      <td>13.1</td>\n",
              "      <td>63</td>\n",
              "      <td>5.4</td>\n",
              "      <td>0.0</td>\n",
              "      <td>0.0</td>\n",
              "    </tr>\n",
              "    <tr>\n",
              "      <th>9</th>\n",
              "      <td>7</td>\n",
              "      <td>5</td>\n",
              "      <td>9</td>\n",
              "      <td>7</td>\n",
              "      <td>92.5</td>\n",
              "      <td>88.0</td>\n",
              "      <td>698.6</td>\n",
              "      <td>7.1</td>\n",
              "      <td>22.8</td>\n",
              "      <td>40</td>\n",
              "      <td>4.0</td>\n",
              "      <td>0.0</td>\n",
              "      <td>0.0</td>\n",
              "    </tr>\n",
              "  </tbody>\n",
              "</table>\n",
              "</div>"
            ],
            "text/plain": [
              "   X  Y  month  day  FFMC    DMC     DC   ISI  temp  RH  wind  rain  area\n",
              "0  7  5      3    6  86.2   26.2   94.3   5.1   8.2  51   6.7   0.0   0.0\n",
              "1  7  4     10    3  90.6   35.4  669.1   6.7  18.0  33   0.9   0.0   0.0\n",
              "2  7  4     10    7  90.6   43.7  686.9   6.7  14.6  33   1.3   0.0   0.0\n",
              "3  8  6      3    6  91.7   33.3   77.5   9.0   8.3  97   4.0   0.2   0.0\n",
              "4  8  6      3    1  89.3   51.3  102.2   9.6  11.4  99   1.8   0.0   0.0\n",
              "5  8  6      8    1  92.3   85.3  488.0  14.7  22.2  29   5.4   0.0   0.0\n",
              "6  8  6      8    2  92.3   88.9  495.6   8.5  24.1  27   3.1   0.0   0.0\n",
              "7  8  6      8    2  91.5  145.4  608.2  10.7   8.0  86   2.2   0.0   0.0\n",
              "8  8  6      9    3  91.0  129.5  692.6   7.0  13.1  63   5.4   0.0   0.0\n",
              "9  7  5      9    7  92.5   88.0  698.6   7.1  22.8  40   4.0   0.0   0.0"
            ]
          },
          "metadata": {
            "tags": []
          },
          "execution_count": 29
        }
      ]
    },
    {
      "metadata": {
        "id": "agLIwsAB_m_8",
        "colab_type": "code",
        "outputId": "3759af16-0e3b-4b26-a4bc-a49d7d7ee6d1",
        "colab": {
          "base_uri": "https://localhost:8080/",
          "height": 191
        }
      },
      "cell_type": "code",
      "source": [
        "#verificando os dias convertidos\n",
        "data['day'].value_counts()"
      ],
      "execution_count": 30,
      "outputs": [
        {
          "output_type": "execute_result",
          "data": {
            "text/plain": [
              "1    95\n",
              "6    85\n",
              "7    84\n",
              "2    74\n",
              "3    64\n",
              "4    61\n",
              "5    54\n",
              "Name: day, dtype: int64"
            ]
          },
          "metadata": {
            "tags": []
          },
          "execution_count": 30
        }
      ]
    },
    {
      "metadata": {
        "id": "J2ReEnbPD4gL",
        "colab_type": "text"
      },
      "cell_type": "markdown",
      "source": [
        "Verifique a baixo que agora temos um dataset totalmente numérico podendo ser submetido aos algoritmos para análise."
      ]
    },
    {
      "metadata": {
        "id": "_Kr6ZLMg_nAK",
        "colab_type": "code",
        "outputId": "65512f6e-a617-49f8-c419-c78bb19b8fb5",
        "colab": {
          "base_uri": "https://localhost:8080/",
          "height": 355
        }
      },
      "cell_type": "code",
      "source": [
        "data.info()"
      ],
      "execution_count": 31,
      "outputs": [
        {
          "output_type": "stream",
          "text": [
            "<class 'pandas.core.frame.DataFrame'>\n",
            "RangeIndex: 517 entries, 0 to 516\n",
            "Data columns (total 13 columns):\n",
            "X        517 non-null int64\n",
            "Y        517 non-null int64\n",
            "month    517 non-null int64\n",
            "day      517 non-null int64\n",
            "FFMC     517 non-null float64\n",
            "DMC      517 non-null float64\n",
            "DC       517 non-null float64\n",
            "ISI      517 non-null float64\n",
            "temp     517 non-null float64\n",
            "RH       517 non-null int64\n",
            "wind     517 non-null float64\n",
            "rain     517 non-null float64\n",
            "area     517 non-null float64\n",
            "dtypes: float64(8), int64(5)\n",
            "memory usage: 52.6 KB\n"
          ],
          "name": "stdout"
        }
      ]
    },
    {
      "metadata": {
        "id": "zLB0gHhIEXHV",
        "colab_type": "text"
      },
      "cell_type": "markdown",
      "source": [
        "No nosso estudo não nos interessamos em saber a área incendiada e sim se houve ou não incêndio.\n",
        "Para isso iremos transformar a coluna área para incêndio e alterar o valor se area maior que zero como incêndio."
      ]
    },
    {
      "metadata": {
        "id": "Tq5mtJ2y_nAQ",
        "colab_type": "code",
        "colab": {}
      },
      "cell_type": "code",
      "source": [
        "#Transformação da área incendiada para 0 - sem incêndio, 1 - com incêndio\n",
        "data['incendio'] = data['area'].apply(lambda x: 1 if x > 0.00 else 0.00)\n"
      ],
      "execution_count": 0,
      "outputs": []
    },
    {
      "metadata": {
        "id": "_Aug9rEV_nAU",
        "colab_type": "code",
        "outputId": "b01b9bb9-f497-494f-8a33-1c4df6d6a9f1",
        "colab": {
          "base_uri": "https://localhost:8080/",
          "height": 127
        }
      },
      "cell_type": "code",
      "source": [
        "data['incendio'].value_counts()"
      ],
      "execution_count": 33,
      "outputs": [
        {
          "output_type": "execute_result",
          "data": {
            "text/plain": [
              "1.0    270\n",
              "0.0    247\n",
              "Name: incendio, dtype: int64"
            ]
          },
          "metadata": {
            "tags": []
          },
          "execution_count": 33
        }
      ]
    },
    {
      "metadata": {
        "id": "RmiI7YDyFbqK",
        "colab_type": "text"
      },
      "cell_type": "markdown",
      "source": [
        "Acima podemos verificar que das 517 ocorrencias coletadas 270 resultaram em incêndio."
      ]
    },
    {
      "metadata": {
        "id": "iLCZsrAA_nAb",
        "colab_type": "code",
        "outputId": "bb21221e-3219-4372-bd79-30f54c4589e9",
        "colab": {
          "base_uri": "https://localhost:8080/",
          "height": 394
        }
      },
      "cell_type": "code",
      "source": [
        "# dataset final com dados convertidos\n",
        "data.head(10)"
      ],
      "execution_count": 34,
      "outputs": [
        {
          "output_type": "execute_result",
          "data": {
            "text/html": [
              "<div>\n",
              "<style scoped>\n",
              "    .dataframe tbody tr th:only-of-type {\n",
              "        vertical-align: middle;\n",
              "    }\n",
              "\n",
              "    .dataframe tbody tr th {\n",
              "        vertical-align: top;\n",
              "    }\n",
              "\n",
              "    .dataframe thead th {\n",
              "        text-align: right;\n",
              "    }\n",
              "</style>\n",
              "<table border=\"1\" class=\"dataframe\">\n",
              "  <thead>\n",
              "    <tr style=\"text-align: right;\">\n",
              "      <th></th>\n",
              "      <th>X</th>\n",
              "      <th>Y</th>\n",
              "      <th>month</th>\n",
              "      <th>day</th>\n",
              "      <th>FFMC</th>\n",
              "      <th>DMC</th>\n",
              "      <th>DC</th>\n",
              "      <th>ISI</th>\n",
              "      <th>temp</th>\n",
              "      <th>RH</th>\n",
              "      <th>wind</th>\n",
              "      <th>rain</th>\n",
              "      <th>area</th>\n",
              "      <th>incendio</th>\n",
              "    </tr>\n",
              "  </thead>\n",
              "  <tbody>\n",
              "    <tr>\n",
              "      <th>0</th>\n",
              "      <td>7</td>\n",
              "      <td>5</td>\n",
              "      <td>3</td>\n",
              "      <td>6</td>\n",
              "      <td>86.2</td>\n",
              "      <td>26.2</td>\n",
              "      <td>94.3</td>\n",
              "      <td>5.1</td>\n",
              "      <td>8.2</td>\n",
              "      <td>51</td>\n",
              "      <td>6.7</td>\n",
              "      <td>0.0</td>\n",
              "      <td>0.0</td>\n",
              "      <td>0.0</td>\n",
              "    </tr>\n",
              "    <tr>\n",
              "      <th>1</th>\n",
              "      <td>7</td>\n",
              "      <td>4</td>\n",
              "      <td>10</td>\n",
              "      <td>3</td>\n",
              "      <td>90.6</td>\n",
              "      <td>35.4</td>\n",
              "      <td>669.1</td>\n",
              "      <td>6.7</td>\n",
              "      <td>18.0</td>\n",
              "      <td>33</td>\n",
              "      <td>0.9</td>\n",
              "      <td>0.0</td>\n",
              "      <td>0.0</td>\n",
              "      <td>0.0</td>\n",
              "    </tr>\n",
              "    <tr>\n",
              "      <th>2</th>\n",
              "      <td>7</td>\n",
              "      <td>4</td>\n",
              "      <td>10</td>\n",
              "      <td>7</td>\n",
              "      <td>90.6</td>\n",
              "      <td>43.7</td>\n",
              "      <td>686.9</td>\n",
              "      <td>6.7</td>\n",
              "      <td>14.6</td>\n",
              "      <td>33</td>\n",
              "      <td>1.3</td>\n",
              "      <td>0.0</td>\n",
              "      <td>0.0</td>\n",
              "      <td>0.0</td>\n",
              "    </tr>\n",
              "    <tr>\n",
              "      <th>3</th>\n",
              "      <td>8</td>\n",
              "      <td>6</td>\n",
              "      <td>3</td>\n",
              "      <td>6</td>\n",
              "      <td>91.7</td>\n",
              "      <td>33.3</td>\n",
              "      <td>77.5</td>\n",
              "      <td>9.0</td>\n",
              "      <td>8.3</td>\n",
              "      <td>97</td>\n",
              "      <td>4.0</td>\n",
              "      <td>0.2</td>\n",
              "      <td>0.0</td>\n",
              "      <td>0.0</td>\n",
              "    </tr>\n",
              "    <tr>\n",
              "      <th>4</th>\n",
              "      <td>8</td>\n",
              "      <td>6</td>\n",
              "      <td>3</td>\n",
              "      <td>1</td>\n",
              "      <td>89.3</td>\n",
              "      <td>51.3</td>\n",
              "      <td>102.2</td>\n",
              "      <td>9.6</td>\n",
              "      <td>11.4</td>\n",
              "      <td>99</td>\n",
              "      <td>1.8</td>\n",
              "      <td>0.0</td>\n",
              "      <td>0.0</td>\n",
              "      <td>0.0</td>\n",
              "    </tr>\n",
              "    <tr>\n",
              "      <th>5</th>\n",
              "      <td>8</td>\n",
              "      <td>6</td>\n",
              "      <td>8</td>\n",
              "      <td>1</td>\n",
              "      <td>92.3</td>\n",
              "      <td>85.3</td>\n",
              "      <td>488.0</td>\n",
              "      <td>14.7</td>\n",
              "      <td>22.2</td>\n",
              "      <td>29</td>\n",
              "      <td>5.4</td>\n",
              "      <td>0.0</td>\n",
              "      <td>0.0</td>\n",
              "      <td>0.0</td>\n",
              "    </tr>\n",
              "    <tr>\n",
              "      <th>6</th>\n",
              "      <td>8</td>\n",
              "      <td>6</td>\n",
              "      <td>8</td>\n",
              "      <td>2</td>\n",
              "      <td>92.3</td>\n",
              "      <td>88.9</td>\n",
              "      <td>495.6</td>\n",
              "      <td>8.5</td>\n",
              "      <td>24.1</td>\n",
              "      <td>27</td>\n",
              "      <td>3.1</td>\n",
              "      <td>0.0</td>\n",
              "      <td>0.0</td>\n",
              "      <td>0.0</td>\n",
              "    </tr>\n",
              "    <tr>\n",
              "      <th>7</th>\n",
              "      <td>8</td>\n",
              "      <td>6</td>\n",
              "      <td>8</td>\n",
              "      <td>2</td>\n",
              "      <td>91.5</td>\n",
              "      <td>145.4</td>\n",
              "      <td>608.2</td>\n",
              "      <td>10.7</td>\n",
              "      <td>8.0</td>\n",
              "      <td>86</td>\n",
              "      <td>2.2</td>\n",
              "      <td>0.0</td>\n",
              "      <td>0.0</td>\n",
              "      <td>0.0</td>\n",
              "    </tr>\n",
              "    <tr>\n",
              "      <th>8</th>\n",
              "      <td>8</td>\n",
              "      <td>6</td>\n",
              "      <td>9</td>\n",
              "      <td>3</td>\n",
              "      <td>91.0</td>\n",
              "      <td>129.5</td>\n",
              "      <td>692.6</td>\n",
              "      <td>7.0</td>\n",
              "      <td>13.1</td>\n",
              "      <td>63</td>\n",
              "      <td>5.4</td>\n",
              "      <td>0.0</td>\n",
              "      <td>0.0</td>\n",
              "      <td>0.0</td>\n",
              "    </tr>\n",
              "    <tr>\n",
              "      <th>9</th>\n",
              "      <td>7</td>\n",
              "      <td>5</td>\n",
              "      <td>9</td>\n",
              "      <td>7</td>\n",
              "      <td>92.5</td>\n",
              "      <td>88.0</td>\n",
              "      <td>698.6</td>\n",
              "      <td>7.1</td>\n",
              "      <td>22.8</td>\n",
              "      <td>40</td>\n",
              "      <td>4.0</td>\n",
              "      <td>0.0</td>\n",
              "      <td>0.0</td>\n",
              "      <td>0.0</td>\n",
              "    </tr>\n",
              "  </tbody>\n",
              "</table>\n",
              "</div>"
            ],
            "text/plain": [
              "   X  Y  month  day  FFMC    DMC     DC   ISI  temp  RH  wind  rain  area  \\\n",
              "0  7  5      3    6  86.2   26.2   94.3   5.1   8.2  51   6.7   0.0   0.0   \n",
              "1  7  4     10    3  90.6   35.4  669.1   6.7  18.0  33   0.9   0.0   0.0   \n",
              "2  7  4     10    7  90.6   43.7  686.9   6.7  14.6  33   1.3   0.0   0.0   \n",
              "3  8  6      3    6  91.7   33.3   77.5   9.0   8.3  97   4.0   0.2   0.0   \n",
              "4  8  6      3    1  89.3   51.3  102.2   9.6  11.4  99   1.8   0.0   0.0   \n",
              "5  8  6      8    1  92.3   85.3  488.0  14.7  22.2  29   5.4   0.0   0.0   \n",
              "6  8  6      8    2  92.3   88.9  495.6   8.5  24.1  27   3.1   0.0   0.0   \n",
              "7  8  6      8    2  91.5  145.4  608.2  10.7   8.0  86   2.2   0.0   0.0   \n",
              "8  8  6      9    3  91.0  129.5  692.6   7.0  13.1  63   5.4   0.0   0.0   \n",
              "9  7  5      9    7  92.5   88.0  698.6   7.1  22.8  40   4.0   0.0   0.0   \n",
              "\n",
              "   incendio  \n",
              "0       0.0  \n",
              "1       0.0  \n",
              "2       0.0  \n",
              "3       0.0  \n",
              "4       0.0  \n",
              "5       0.0  \n",
              "6       0.0  \n",
              "7       0.0  \n",
              "8       0.0  \n",
              "9       0.0  "
            ]
          },
          "metadata": {
            "tags": []
          },
          "execution_count": 34
        }
      ]
    },
    {
      "metadata": {
        "id": "SZy9w1VFIpMs",
        "colab_type": "text"
      },
      "cell_type": "markdown",
      "source": [
        "Verificando a correlação dos dados."
      ]
    },
    {
      "metadata": {
        "id": "pwLFAD7dI2qE",
        "colab_type": "code",
        "colab": {
          "base_uri": "https://localhost:8080/",
          "height": 533
        },
        "outputId": "56dcdb90-fac4-484d-bff9-b7719697ab85"
      },
      "cell_type": "code",
      "source": [
        "print(\"Correlação: \")\n",
        "data.corr(method='pearson')"
      ],
      "execution_count": 35,
      "outputs": [
        {
          "output_type": "stream",
          "text": [
            "Correlação: \n"
          ],
          "name": "stdout"
        },
        {
          "output_type": "execute_result",
          "data": {
            "text/html": [
              "<div>\n",
              "<style scoped>\n",
              "    .dataframe tbody tr th:only-of-type {\n",
              "        vertical-align: middle;\n",
              "    }\n",
              "\n",
              "    .dataframe tbody tr th {\n",
              "        vertical-align: top;\n",
              "    }\n",
              "\n",
              "    .dataframe thead th {\n",
              "        text-align: right;\n",
              "    }\n",
              "</style>\n",
              "<table border=\"1\" class=\"dataframe\">\n",
              "  <thead>\n",
              "    <tr style=\"text-align: right;\">\n",
              "      <th></th>\n",
              "      <th>X</th>\n",
              "      <th>Y</th>\n",
              "      <th>month</th>\n",
              "      <th>day</th>\n",
              "      <th>FFMC</th>\n",
              "      <th>DMC</th>\n",
              "      <th>DC</th>\n",
              "      <th>ISI</th>\n",
              "      <th>temp</th>\n",
              "      <th>RH</th>\n",
              "      <th>wind</th>\n",
              "      <th>rain</th>\n",
              "      <th>area</th>\n",
              "      <th>incendio</th>\n",
              "    </tr>\n",
              "  </thead>\n",
              "  <tbody>\n",
              "    <tr>\n",
              "      <th>X</th>\n",
              "      <td>1.000000</td>\n",
              "      <td>0.539548</td>\n",
              "      <td>-0.065003</td>\n",
              "      <td>0.015282</td>\n",
              "      <td>-0.021039</td>\n",
              "      <td>-0.048384</td>\n",
              "      <td>-0.085916</td>\n",
              "      <td>0.006210</td>\n",
              "      <td>-0.051258</td>\n",
              "      <td>0.085223</td>\n",
              "      <td>0.018798</td>\n",
              "      <td>0.065387</td>\n",
              "      <td>0.063385</td>\n",
              "      <td>0.062491</td>\n",
              "    </tr>\n",
              "    <tr>\n",
              "      <th>Y</th>\n",
              "      <td>0.539548</td>\n",
              "      <td>1.000000</td>\n",
              "      <td>-0.066292</td>\n",
              "      <td>-0.010088</td>\n",
              "      <td>-0.046308</td>\n",
              "      <td>0.007782</td>\n",
              "      <td>-0.101178</td>\n",
              "      <td>-0.024488</td>\n",
              "      <td>-0.024103</td>\n",
              "      <td>0.062221</td>\n",
              "      <td>-0.020341</td>\n",
              "      <td>0.033234</td>\n",
              "      <td>0.044873</td>\n",
              "      <td>0.056892</td>\n",
              "    </tr>\n",
              "    <tr>\n",
              "      <th>month</th>\n",
              "      <td>-0.065003</td>\n",
              "      <td>-0.066292</td>\n",
              "      <td>1.000000</td>\n",
              "      <td>-0.037397</td>\n",
              "      <td>0.291477</td>\n",
              "      <td>0.466645</td>\n",
              "      <td>0.868698</td>\n",
              "      <td>0.186597</td>\n",
              "      <td>0.368842</td>\n",
              "      <td>-0.095280</td>\n",
              "      <td>-0.086368</td>\n",
              "      <td>0.013438</td>\n",
              "      <td>0.056496</td>\n",
              "      <td>0.130329</td>\n",
              "    </tr>\n",
              "    <tr>\n",
              "      <th>day</th>\n",
              "      <td>0.015282</td>\n",
              "      <td>-0.010088</td>\n",
              "      <td>-0.037397</td>\n",
              "      <td>1.000000</td>\n",
              "      <td>0.076324</td>\n",
              "      <td>0.018082</td>\n",
              "      <td>-0.002360</td>\n",
              "      <td>0.057300</td>\n",
              "      <td>0.037480</td>\n",
              "      <td>-0.077400</td>\n",
              "      <td>0.002562</td>\n",
              "      <td>-0.023082</td>\n",
              "      <td>0.043762</td>\n",
              "      <td>-0.000060</td>\n",
              "    </tr>\n",
              "    <tr>\n",
              "      <th>FFMC</th>\n",
              "      <td>-0.021039</td>\n",
              "      <td>-0.046308</td>\n",
              "      <td>0.291477</td>\n",
              "      <td>0.076324</td>\n",
              "      <td>1.000000</td>\n",
              "      <td>0.382619</td>\n",
              "      <td>0.330512</td>\n",
              "      <td>0.531805</td>\n",
              "      <td>0.431532</td>\n",
              "      <td>-0.300995</td>\n",
              "      <td>-0.028485</td>\n",
              "      <td>0.056702</td>\n",
              "      <td>0.040122</td>\n",
              "      <td>0.073823</td>\n",
              "    </tr>\n",
              "    <tr>\n",
              "      <th>DMC</th>\n",
              "      <td>-0.048384</td>\n",
              "      <td>0.007782</td>\n",
              "      <td>0.466645</td>\n",
              "      <td>0.018082</td>\n",
              "      <td>0.382619</td>\n",
              "      <td>1.000000</td>\n",
              "      <td>0.682192</td>\n",
              "      <td>0.305128</td>\n",
              "      <td>0.469594</td>\n",
              "      <td>0.073795</td>\n",
              "      <td>-0.105342</td>\n",
              "      <td>0.074790</td>\n",
              "      <td>0.072994</td>\n",
              "      <td>0.062672</td>\n",
              "    </tr>\n",
              "    <tr>\n",
              "      <th>DC</th>\n",
              "      <td>-0.085916</td>\n",
              "      <td>-0.101178</td>\n",
              "      <td>0.868698</td>\n",
              "      <td>-0.002360</td>\n",
              "      <td>0.330512</td>\n",
              "      <td>0.682192</td>\n",
              "      <td>1.000000</td>\n",
              "      <td>0.229154</td>\n",
              "      <td>0.496208</td>\n",
              "      <td>-0.039192</td>\n",
              "      <td>-0.203466</td>\n",
              "      <td>0.035861</td>\n",
              "      <td>0.049383</td>\n",
              "      <td>0.096724</td>\n",
              "    </tr>\n",
              "    <tr>\n",
              "      <th>ISI</th>\n",
              "      <td>0.006210</td>\n",
              "      <td>-0.024488</td>\n",
              "      <td>0.186597</td>\n",
              "      <td>0.057300</td>\n",
              "      <td>0.531805</td>\n",
              "      <td>0.305128</td>\n",
              "      <td>0.229154</td>\n",
              "      <td>1.000000</td>\n",
              "      <td>0.394287</td>\n",
              "      <td>-0.132517</td>\n",
              "      <td>0.106826</td>\n",
              "      <td>0.067668</td>\n",
              "      <td>0.008258</td>\n",
              "      <td>0.035663</td>\n",
              "    </tr>\n",
              "    <tr>\n",
              "      <th>temp</th>\n",
              "      <td>-0.051258</td>\n",
              "      <td>-0.024103</td>\n",
              "      <td>0.368842</td>\n",
              "      <td>0.037480</td>\n",
              "      <td>0.431532</td>\n",
              "      <td>0.469594</td>\n",
              "      <td>0.496208</td>\n",
              "      <td>0.394287</td>\n",
              "      <td>1.000000</td>\n",
              "      <td>-0.527390</td>\n",
              "      <td>-0.227116</td>\n",
              "      <td>0.069491</td>\n",
              "      <td>0.097844</td>\n",
              "      <td>0.076047</td>\n",
              "    </tr>\n",
              "    <tr>\n",
              "      <th>RH</th>\n",
              "      <td>0.085223</td>\n",
              "      <td>0.062221</td>\n",
              "      <td>-0.095280</td>\n",
              "      <td>-0.077400</td>\n",
              "      <td>-0.300995</td>\n",
              "      <td>0.073795</td>\n",
              "      <td>-0.039192</td>\n",
              "      <td>-0.132517</td>\n",
              "      <td>-0.527390</td>\n",
              "      <td>1.000000</td>\n",
              "      <td>0.069410</td>\n",
              "      <td>0.099751</td>\n",
              "      <td>-0.075519</td>\n",
              "      <td>-0.035587</td>\n",
              "    </tr>\n",
              "    <tr>\n",
              "      <th>wind</th>\n",
              "      <td>0.018798</td>\n",
              "      <td>-0.020341</td>\n",
              "      <td>-0.086368</td>\n",
              "      <td>0.002562</td>\n",
              "      <td>-0.028485</td>\n",
              "      <td>-0.105342</td>\n",
              "      <td>-0.203466</td>\n",
              "      <td>0.106826</td>\n",
              "      <td>-0.227116</td>\n",
              "      <td>0.069410</td>\n",
              "      <td>1.000000</td>\n",
              "      <td>0.061119</td>\n",
              "      <td>0.012317</td>\n",
              "      <td>0.055702</td>\n",
              "    </tr>\n",
              "    <tr>\n",
              "      <th>rain</th>\n",
              "      <td>0.065387</td>\n",
              "      <td>0.033234</td>\n",
              "      <td>0.013438</td>\n",
              "      <td>-0.023082</td>\n",
              "      <td>0.056702</td>\n",
              "      <td>0.074790</td>\n",
              "      <td>0.035861</td>\n",
              "      <td>0.067668</td>\n",
              "      <td>0.069491</td>\n",
              "      <td>0.099751</td>\n",
              "      <td>0.061119</td>\n",
              "      <td>1.000000</td>\n",
              "      <td>-0.007366</td>\n",
              "      <td>0.025550</td>\n",
              "    </tr>\n",
              "    <tr>\n",
              "      <th>area</th>\n",
              "      <td>0.063385</td>\n",
              "      <td>0.044873</td>\n",
              "      <td>0.056496</td>\n",
              "      <td>0.043762</td>\n",
              "      <td>0.040122</td>\n",
              "      <td>0.072994</td>\n",
              "      <td>0.049383</td>\n",
              "      <td>0.008258</td>\n",
              "      <td>0.097844</td>\n",
              "      <td>-0.075519</td>\n",
              "      <td>0.012317</td>\n",
              "      <td>-0.007366</td>\n",
              "      <td>1.000000</td>\n",
              "      <td>0.193224</td>\n",
              "    </tr>\n",
              "    <tr>\n",
              "      <th>incendio</th>\n",
              "      <td>0.062491</td>\n",
              "      <td>0.056892</td>\n",
              "      <td>0.130329</td>\n",
              "      <td>-0.000060</td>\n",
              "      <td>0.073823</td>\n",
              "      <td>0.062672</td>\n",
              "      <td>0.096724</td>\n",
              "      <td>0.035663</td>\n",
              "      <td>0.076047</td>\n",
              "      <td>-0.035587</td>\n",
              "      <td>0.055702</td>\n",
              "      <td>0.025550</td>\n",
              "      <td>0.193224</td>\n",
              "      <td>1.000000</td>\n",
              "    </tr>\n",
              "  </tbody>\n",
              "</table>\n",
              "</div>"
            ],
            "text/plain": [
              "                 X         Y     month       day      FFMC       DMC  \\\n",
              "X         1.000000  0.539548 -0.065003  0.015282 -0.021039 -0.048384   \n",
              "Y         0.539548  1.000000 -0.066292 -0.010088 -0.046308  0.007782   \n",
              "month    -0.065003 -0.066292  1.000000 -0.037397  0.291477  0.466645   \n",
              "day       0.015282 -0.010088 -0.037397  1.000000  0.076324  0.018082   \n",
              "FFMC     -0.021039 -0.046308  0.291477  0.076324  1.000000  0.382619   \n",
              "DMC      -0.048384  0.007782  0.466645  0.018082  0.382619  1.000000   \n",
              "DC       -0.085916 -0.101178  0.868698 -0.002360  0.330512  0.682192   \n",
              "ISI       0.006210 -0.024488  0.186597  0.057300  0.531805  0.305128   \n",
              "temp     -0.051258 -0.024103  0.368842  0.037480  0.431532  0.469594   \n",
              "RH        0.085223  0.062221 -0.095280 -0.077400 -0.300995  0.073795   \n",
              "wind      0.018798 -0.020341 -0.086368  0.002562 -0.028485 -0.105342   \n",
              "rain      0.065387  0.033234  0.013438 -0.023082  0.056702  0.074790   \n",
              "area      0.063385  0.044873  0.056496  0.043762  0.040122  0.072994   \n",
              "incendio  0.062491  0.056892  0.130329 -0.000060  0.073823  0.062672   \n",
              "\n",
              "                DC       ISI      temp        RH      wind      rain  \\\n",
              "X        -0.085916  0.006210 -0.051258  0.085223  0.018798  0.065387   \n",
              "Y        -0.101178 -0.024488 -0.024103  0.062221 -0.020341  0.033234   \n",
              "month     0.868698  0.186597  0.368842 -0.095280 -0.086368  0.013438   \n",
              "day      -0.002360  0.057300  0.037480 -0.077400  0.002562 -0.023082   \n",
              "FFMC      0.330512  0.531805  0.431532 -0.300995 -0.028485  0.056702   \n",
              "DMC       0.682192  0.305128  0.469594  0.073795 -0.105342  0.074790   \n",
              "DC        1.000000  0.229154  0.496208 -0.039192 -0.203466  0.035861   \n",
              "ISI       0.229154  1.000000  0.394287 -0.132517  0.106826  0.067668   \n",
              "temp      0.496208  0.394287  1.000000 -0.527390 -0.227116  0.069491   \n",
              "RH       -0.039192 -0.132517 -0.527390  1.000000  0.069410  0.099751   \n",
              "wind     -0.203466  0.106826 -0.227116  0.069410  1.000000  0.061119   \n",
              "rain      0.035861  0.067668  0.069491  0.099751  0.061119  1.000000   \n",
              "area      0.049383  0.008258  0.097844 -0.075519  0.012317 -0.007366   \n",
              "incendio  0.096724  0.035663  0.076047 -0.035587  0.055702  0.025550   \n",
              "\n",
              "              area  incendio  \n",
              "X         0.063385  0.062491  \n",
              "Y         0.044873  0.056892  \n",
              "month     0.056496  0.130329  \n",
              "day       0.043762 -0.000060  \n",
              "FFMC      0.040122  0.073823  \n",
              "DMC       0.072994  0.062672  \n",
              "DC        0.049383  0.096724  \n",
              "ISI       0.008258  0.035663  \n",
              "temp      0.097844  0.076047  \n",
              "RH       -0.075519 -0.035587  \n",
              "wind      0.012317  0.055702  \n",
              "rain     -0.007366  0.025550  \n",
              "area      1.000000  0.193224  \n",
              "incendio  0.193224  1.000000  "
            ]
          },
          "metadata": {
            "tags": []
          },
          "execution_count": 35
        }
      ]
    },
    {
      "metadata": {
        "id": "pbMNut-y_nAh",
        "colab_type": "text"
      },
      "cell_type": "markdown",
      "source": [
        "A partir deste ponto será utilizado como base o arquivo fornecido pela Professora Letícia (pca_mnist_mlp_svm_NEW.py) com as necessárias alterações. \n"
      ]
    },
    {
      "metadata": {
        "id": "CS0pwsS5_nAi",
        "colab_type": "code",
        "colab": {}
      },
      "cell_type": "code",
      "source": [
        "# PCA \n",
        "#normalização\n",
        "#transforma uma lista em um vetor\n",
        "X_ = np.array(data)\n",
        "m = np.mean(X_)\n",
        "s = np.std(X_,ddof=1)\n",
        "X = (X_ - m)/s"
      ],
      "execution_count": 0,
      "outputs": []
    },
    {
      "metadata": {
        "id": "lryvISJD_nAv",
        "colab_type": "code",
        "outputId": "46641ce3-eb68-4997-f6f4-5fbdf0899008",
        "colab": {
          "base_uri": "https://localhost:8080/",
          "height": 92
        }
      },
      "cell_type": "code",
      "source": [
        "#Calcular PCA de todo o conjunto de entrada\n",
        "pca = PCA(n_components=13)\n",
        "X_projected = pca.fit_transform(X)\n",
        "\n",
        "print('Shape dados brutos: ' + str(X.shape))\n",
        "print('Shape dados PCA: ' + str(X_projected.shape))"
      ],
      "execution_count": 54,
      "outputs": [
        {
          "output_type": "stream",
          "text": [
            "Shape dados brutos: (517, 14)\n",
            "Shape dados PCA: (517, 13)\n"
          ],
          "name": "stdout"
        }
      ]
    },
    {
      "metadata": {
        "id": "xM5riStX_nBA",
        "colab_type": "code",
        "outputId": "4dd0be9c-e9b0-419a-eb58-8c6f8349d784",
        "colab": {
          "base_uri": "https://localhost:8080/",
          "height": 303
        }
      },
      "cell_type": "code",
      "source": [
        "#Verificando o número de componentes\n",
        "plt.plot(np.cumsum(pca.explained_variance_ratio_))\n",
        "plt.xlabel('número de componentes')\n",
        "plt.ylabel('variância cumulativa')\n",
        "plt.show()"
      ],
      "execution_count": 55,
      "outputs": [
        {
          "output_type": "display_data",
          "data": {
            "image/png": "[encoded data removed]",
            "text/plain": [
              "<Figure size 432x288 with 1 Axes>"
            ]
          },
          "metadata": {
            "tags": []
          }
        }
      ]
    },
    {
      "metadata": {
        "id": "60zefKjm_nBF",
        "colab_type": "code",
        "colab": {}
      },
      "cell_type": "code",
      "source": [
        "# Set a KMeans clustering\n",
        "kmeans = KMeans(n_clusters=5)\n",
        "# Compute cluster centers and predict cluster indices\n",
        "y = kmeans.fit_predict(X_projected)"
      ],
      "execution_count": 0,
      "outputs": []
    },
    {
      "metadata": {
        "id": "Wtx3KFzC_nBL",
        "colab_type": "code",
        "outputId": "f85f0630-c9bd-4f39-d164-8025c7d44cb1",
        "colab": {
          "base_uri": "https://localhost:8080/",
          "height": 303
        }
      },
      "cell_type": "code",
      "source": [
        "# plot em 2D com 2 componentes\n",
        "plt.scatter(X_projected[:, 0], X_projected[:, 1],\n",
        "            c=y, edgecolor='none', alpha=0.5,\n",
        "            cmap=plt.cm.get_cmap('Accent', 10))\n",
        "plt.xlabel('component 1')\n",
        "plt.ylabel('component 2')\n",
        "plt.colorbar()\n",
        "plt.show()"
      ],
      "execution_count": 57,
      "outputs": [
        {
          "output_type": "display_data",
          "data": {
            "image/png": "[encoded data removed]",
            "text/plain": [
              "<Figure size 432x288 with 2 Axes>"
            ]
          },
          "metadata": {
            "tags": []
          }
        }
      ]
    },
    {
      "metadata": {
        "id": "r_kr3NIe_nBP",
        "colab_type": "code",
        "colab": {}
      },
      "cell_type": "code",
      "source": [
        "# Separa conjunto de train e val dos dados brutos\n",
        "X_train, X_val, y_train, y_val = train_test_split(X, y, test_size=0.3,\n",
        "                                                    stratify=y,\n",
        "                                                    random_state=42)"
      ],
      "execution_count": 0,
      "outputs": []
    },
    {
      "metadata": {
        "id": "CZN10TBB_nBS",
        "colab_type": "code",
        "colab": {}
      },
      "cell_type": "code",
      "source": [
        "# Separa conjunto de train e val da PCA\n",
        "projected_train, projected_val, y_train, y_val = train_test_split(X_projected, y, test_size=0.3,\n",
        "                                                    stratify=y,\n",
        "                                                    random_state=42)"
      ],
      "execution_count": 0,
      "outputs": []
    },
    {
      "metadata": {
        "id": "wtYyyV-I_nBY",
        "colab_type": "code",
        "colab": {}
      },
      "cell_type": "code",
      "source": [
        "# Definir arquitetura MLP\n",
        "mlp = MLPClassifier(hidden_layer_sizes=(200,200), activation='relu', max_iter=1000, alpha=1e-4,\n",
        "                     solver='lbfgs', verbose=10, tol=1e-3, random_state=1, learning_rate_init=.01)"
      ],
      "execution_count": 0,
      "outputs": []
    },
    {
      "metadata": {
        "id": "yeFyiosA_nBc",
        "colab_type": "code",
        "outputId": "9cfddedd-5e9d-4556-e7f6-210896db00be",
        "colab": {
          "base_uri": "https://localhost:8080/",
          "height": 92
        }
      },
      "cell_type": "code",
      "source": [
        "# Aqui fazer um treinamento e uma validacao da MLP com dados brutos\n",
        "start = process_time()\n",
        "mlp.fit(X_train, y_train)\n",
        "end = process_time()\n",
        "time_mlp = end - start\n",
        "print('Tempo de treinamento_mlp_dados_brutos: ' + str(time_mlp))\n",
        "print('Erro no final do treinamento_mlp_dados_brutos: %f' % mlp.loss_)"
      ],
      "execution_count": 44,
      "outputs": [
        {
          "output_type": "stream",
          "text": [
            "Tempo de treinamento_mlp_dados_brutos: 10.0138463\n",
            "Erro no final do treinamento_mlp_dados_brutos: 0.003865\n"
          ],
          "name": "stdout"
        }
      ]
    },
    {
      "metadata": {
        "id": "pfueycLm_nBi",
        "colab_type": "code",
        "outputId": "e34e5f58-1ae8-41fb-ee09-8f562dfa4ce6",
        "colab": {
          "base_uri": "https://localhost:8080/",
          "height": 520
        }
      },
      "cell_type": "code",
      "source": [
        "# Métricas da validação MLP com dados brutos\n",
        "preds_val = mlp.predict(X_val)\n",
        "#print(preds_val)\n",
        "#print(y_val)\n",
        "\n",
        "correct_outputs_val = y_val\n",
        "n_acertos_val = 0\n",
        "for u in range(0, len(correct_outputs_val)):\n",
        "   if preds_val[u] == correct_outputs_val[u]:\n",
        "       n_acertos_val += 1\n",
        "print('Número de acertos_val_mlp com dados brutos: ' + str((n_acertos_val*100)/len(correct_outputs_val)))\n",
        "print(confusion_matrix(y_val,preds_val))\n",
        "print(classification_report(y_val,preds_val))"
      ],
      "execution_count": 45,
      "outputs": [
        {
          "output_type": "stream",
          "text": [
            "Número de acertos_val_mlp com dados brutos: 98.71794871794872\n",
            "[[34  0  0  0  0  1  0  0  0  0]\n",
            " [ 0 27  0  0  0  0  0  0  0  0]\n",
            " [ 0  0  1  0  0  0  0  0  0  0]\n",
            " [ 0  0  0 10  0  0  0  0  0  0]\n",
            " [ 0  0  0  0  7  0  0  0  0  0]\n",
            " [ 0  0  0  0  0 26  0  0  0  0]\n",
            " [ 0  0  0  0  0  0 21  0  0  0]\n",
            " [ 0  0  0  0  0  0  0  9  0  0]\n",
            " [ 0  0  0  0  0  0  0  0 17  1]\n",
            " [ 0  0  0  0  0  0  0  0  0  2]]\n",
            "              precision    recall  f1-score   support\n",
            "\n",
            "           0       1.00      0.97      0.99        35\n",
            "           1       1.00      1.00      1.00        27\n",
            "           2       1.00      1.00      1.00         1\n",
            "           3       1.00      1.00      1.00        10\n",
            "           4       1.00      1.00      1.00         7\n",
            "           5       0.96      1.00      0.98        26\n",
            "           6       1.00      1.00      1.00        21\n",
            "           7       1.00      1.00      1.00         9\n",
            "           8       1.00      0.94      0.97        18\n",
            "           9       0.67      1.00      0.80         2\n",
            "\n",
            "   micro avg       0.99      0.99      0.99       156\n",
            "   macro avg       0.96      0.99      0.97       156\n",
            "weighted avg       0.99      0.99      0.99       156\n",
            "\n"
          ],
          "name": "stdout"
        }
      ]
    },
    {
      "metadata": {
        "id": "pgWctKUg_nBo",
        "colab_type": "code",
        "outputId": "3592ec04-0a3b-4eda-f494-8849c689f908",
        "colab": {
          "base_uri": "https://localhost:8080/",
          "height": 92
        }
      },
      "cell_type": "code",
      "source": [
        "# Aqui fazer um treinamento e uma validacao da MLP com PCA\n",
        "start = process_time()\n",
        "mlp.fit(projected_train, y_train)\n",
        "end = process_time()\n",
        "time_mlp = end - start\n",
        "print('Tempo de treinamento_mlp_pca: ' + str(time_mlp))\n",
        "print(\"Erro no final do treinamento_mlp_pca: %f\" % mlp.loss_)\n"
      ],
      "execution_count": 46,
      "outputs": [
        {
          "output_type": "stream",
          "text": [
            "Tempo de treinamento_mlp_pca: 1.8829473510000003\n",
            "Erro no final do treinamento_mlp_pca: 0.000443\n"
          ],
          "name": "stdout"
        }
      ]
    },
    {
      "metadata": {
        "id": "8bBDewf-_nBv",
        "colab_type": "code",
        "outputId": "9d50e308-c4e0-4203-b07e-cc54d476adea",
        "colab": {
          "base_uri": "https://localhost:8080/",
          "height": 520
        }
      },
      "cell_type": "code",
      "source": [
        "# Métricas da validação MLP com PCA\n",
        "preds_val = mlp.predict(projected_val)\n",
        "\n",
        "correct_outputs_val = y_val\n",
        "n_acertos_val = 0\n",
        "for u in range(0, len(correct_outputs_val)):\n",
        "   if preds_val[u] == correct_outputs_val[u]:\n",
        "       n_acertos_val += 1\n",
        "print('Número de acertos_val_mlp com PCA: ' + str((n_acertos_val*100)/len(correct_outputs_val)))\n",
        "print(confusion_matrix(y_val,preds_val))\n",
        "print(classification_report(y_val,preds_val))\n"
      ],
      "execution_count": 47,
      "outputs": [
        {
          "output_type": "stream",
          "text": [
            "Número de acertos_val_mlp com PCA: 98.71794871794872\n",
            "[[35  0  0  0  0  0  0  0  0  0]\n",
            " [ 0 27  0  0  0  0  0  0  0  0]\n",
            " [ 0  0  1  0  0  0  0  0  0  0]\n",
            " [ 0  0  0  9  0  0  0  0  0  1]\n",
            " [ 0  0  0  0  7  0  0  0  0  0]\n",
            " [ 0  0  0  0  0 26  0  0  0  0]\n",
            " [ 0  0  0  0  0  0 21  0  0  0]\n",
            " [ 0  0  0  0  0  0  0  9  0  0]\n",
            " [ 0  0  0  0  0  0  1  0 17  0]\n",
            " [ 0  0  0  0  0  0  0  0  0  2]]\n",
            "              precision    recall  f1-score   support\n",
            "\n",
            "           0       1.00      1.00      1.00        35\n",
            "           1       1.00      1.00      1.00        27\n",
            "           2       1.00      1.00      1.00         1\n",
            "           3       1.00      0.90      0.95        10\n",
            "           4       1.00      1.00      1.00         7\n",
            "           5       1.00      1.00      1.00        26\n",
            "           6       0.95      1.00      0.98        21\n",
            "           7       1.00      1.00      1.00         9\n",
            "           8       1.00      0.94      0.97        18\n",
            "           9       0.67      1.00      0.80         2\n",
            "\n",
            "   micro avg       0.99      0.99      0.99       156\n",
            "   macro avg       0.96      0.98      0.97       156\n",
            "weighted avg       0.99      0.99      0.99       156\n",
            "\n"
          ],
          "name": "stdout"
        }
      ]
    },
    {
      "metadata": {
        "id": "bpDCnX6K_nBz",
        "colab_type": "code",
        "colab": {}
      },
      "cell_type": "code",
      "source": [
        "## definir arquitetura da SVM\n",
        "svm = svm.SVC(kernel='rbf',C =1, gamma='auto')"
      ],
      "execution_count": 0,
      "outputs": []
    },
    {
      "metadata": {
        "id": "BOcGv0QI_nB2",
        "colab_type": "code",
        "outputId": "dd26c17f-22f8-41ec-9642-95eec19cd445",
        "colab": {
          "base_uri": "https://localhost:8080/",
          "height": 74
        }
      },
      "cell_type": "code",
      "source": [
        "# Aqui fazer um treinamento e uma validacao da SVM com dados brutos\n",
        "start = process_time()\n",
        "svm.fit(X_train, y_train)\n",
        "end = process_time()\n",
        "time_svm = end - start\n",
        "print('Tempo de treinamento_svm_dados_brutos: ' + str(time_svm))"
      ],
      "execution_count": 49,
      "outputs": [
        {
          "output_type": "stream",
          "text": [
            "Tempo de treinamento_svm_dados_brutos: 0.021624557999999183\n"
          ],
          "name": "stdout"
        }
      ]
    },
    {
      "metadata": {
        "id": "XlFc2pzG_nB8",
        "colab_type": "code",
        "outputId": "f77cd80c-3180-4c09-8aee-2afabbb9ee72",
        "colab": {
          "base_uri": "https://localhost:8080/",
          "height": 240
        }
      },
      "cell_type": "code",
      "source": [
        "# Métricas da validação SVM com dados brutos\n",
        "preds_val_svm= svm.predict(X_val)\n",
        "\n",
        "correct_outputs_val_svm = y_val\n",
        "n_acertos_val_svm = 0\n",
        "for u in range(0, len(correct_outputs_val_svm)):\n",
        "   if preds_val_svm[u] == correct_outputs_val_svm[u]:\n",
        "            n_acertos_val_svm += 1\n",
        "print('Number of acertos_val_svm_dados brutos: ' + str((n_acertos_val_svm*100)/len(correct_outputs_val_svm)))\n",
        "print(confusion_matrix(y_val,preds_val_svm))"
      ],
      "execution_count": 50,
      "outputs": [
        {
          "output_type": "stream",
          "text": [
            "Number of acertos_val_svm_dados brutos: 88.46153846153847\n",
            "[[35  0  0  0  0  0  0  0  0  0]\n",
            " [ 0 27  0  0  0  0  0  0  0  0]\n",
            " [ 0  0  1  0  0  0  0  0  0  0]\n",
            " [ 0  0  0  9  0  0  1  0  0  0]\n",
            " [ 0  0  0  0  5  0  0  0  2  0]\n",
            " [ 4  0  0  0  0 22  0  0  0  0]\n",
            " [ 5  0  0  0  0  0 16  0  0  0]\n",
            " [ 0  0  0  0  0  0  0  9  0  0]\n",
            " [ 3  0  0  0  0  0  1  0 14  0]\n",
            " [ 1  0  0  0  0  0  1  0  0  0]]\n"
          ],
          "name": "stdout"
        }
      ]
    },
    {
      "metadata": {
        "id": "fylAfKKm_nCC",
        "colab_type": "code",
        "outputId": "7af1ba80-eeed-4d2d-dd73-6d4292c7ce0b",
        "colab": {
          "base_uri": "https://localhost:8080/",
          "height": 74
        }
      },
      "cell_type": "code",
      "source": [
        "# Aqui fazer um treinamento e uma validacao da svm com PCA\n",
        "start = process_time()\n",
        "svm.fit(projected_train, y_train)\n",
        "end = process_time()\n",
        "time_svm = end - start\n",
        "print('Tempo de treinamento_svm_pca: ' + str(time_svm))"
      ],
      "execution_count": 51,
      "outputs": [
        {
          "output_type": "stream",
          "text": [
            "Tempo de treinamento_svm_pca: 0.017152478999999943\n"
          ],
          "name": "stdout"
        }
      ]
    },
    {
      "metadata": {
        "id": "ypHP25nw_nCL",
        "colab_type": "code",
        "outputId": "c2e227af-d051-43b7-96bc-76fd6f581882",
        "colab": {
          "base_uri": "https://localhost:8080/",
          "height": 240
        }
      },
      "cell_type": "code",
      "source": [
        "# Métricas da validação SVM com PCA\n",
        "preds_val_svm= svm.predict(projected_val)\n",
        "\n",
        "correct_outputs_val_svm = y_val\n",
        "n_acertos_val_svm = 0\n",
        "for u in range(0, len(correct_outputs_val_svm)):\n",
        "   if preds_val_svm[u] == correct_outputs_val_svm[u]:\n",
        "            n_acertos_val_svm += 1\n",
        "print('Número de acertos_val_svm PCA: ' + str((n_acertos_val_svm*100)/len(correct_outputs_val_svm)))\n",
        "print(confusion_matrix(y_val,preds_val_svm))\n"
      ],
      "execution_count": 52,
      "outputs": [
        {
          "output_type": "stream",
          "text": [
            "Número de acertos_val_svm PCA: 88.46153846153847\n",
            "[[35  0  0  0  0  0  0  0  0  0]\n",
            " [ 0 27  0  0  0  0  0  0  0  0]\n",
            " [ 0  0  1  0  0  0  0  0  0  0]\n",
            " [ 0  0  0  9  0  0  1  0  0  0]\n",
            " [ 0  0  0  0  5  0  0  0  2  0]\n",
            " [ 4  0  0  0  0 22  0  0  0  0]\n",
            " [ 5  0  0  0  0  0 16  0  0  0]\n",
            " [ 0  0  0  0  0  0  0  9  0  0]\n",
            " [ 3  0  0  0  0  0  1  0 14  0]\n",
            " [ 1  0  0  0  0  0  1  0  0  0]]\n"
          ],
          "name": "stdout"
        }
      ]
    },
    {
      "metadata": {
        "id": "BErD1cZq_nCS",
        "colab_type": "code",
        "colab": {
          "base_uri": "https://localhost:8080/",
          "height": 252
        },
        "outputId": "65ff8bbf-abc5-4797-edcc-f7463caa18a5"
      },
      "cell_type": "code",
      "source": [
        "## testar um único exemplo\n",
        "exemplo_=projected_val[1,]\n",
        "exemplo = exemplo_.reshape((1, 13))\n",
        "pred_svm = svm.predict(exemplo)\n",
        "pred_mlp = mlp.predict(exemplo)"
      ],
      "execution_count": 53,
      "outputs": [
        {
          "output_type": "error",
          "ename": "ValueError",
          "evalue": "ignored",
          "traceback": [
            "\u001b[0;31m---------------------------------------------------------------------------\u001b[0m",
            "\u001b[0;31mValueError\u001b[0m                                Traceback (most recent call last)",
            "\u001b[0;32m<ipython-input-53-d36e13c997bd>\u001b[0m in \u001b[0;36m<module>\u001b[0;34m()\u001b[0m\n\u001b[1;32m      1\u001b[0m \u001b[0mexemplo_\u001b[0m\u001b[0;34m=\u001b[0m\u001b[0mprojected_val\u001b[0m\u001b[0;34m[\u001b[0m\u001b[0;36m1\u001b[0m\u001b[0;34m,\u001b[0m\u001b[0;34m]\u001b[0m\u001b[0;34m\u001b[0m\u001b[0;34m\u001b[0m\u001b[0m\n\u001b[0;32m----> 2\u001b[0;31m \u001b[0mexemplo\u001b[0m \u001b[0;34m=\u001b[0m \u001b[0mexemplo_\u001b[0m\u001b[0;34m.\u001b[0m\u001b[0mreshape\u001b[0m\u001b[0;34m(\u001b[0m\u001b[0;34m(\u001b[0m\u001b[0;36m1\u001b[0m\u001b[0;34m,\u001b[0m \u001b[0;36m13\u001b[0m\u001b[0;34m)\u001b[0m\u001b[0;34m)\u001b[0m\u001b[0;34m\u001b[0m\u001b[0;34m\u001b[0m\u001b[0m\n\u001b[0m\u001b[1;32m      3\u001b[0m \u001b[0mpred_svm\u001b[0m \u001b[0;34m=\u001b[0m \u001b[0msvm\u001b[0m\u001b[0;34m.\u001b[0m\u001b[0mpredict\u001b[0m\u001b[0;34m(\u001b[0m\u001b[0mexemplo\u001b[0m\u001b[0;34m)\u001b[0m\u001b[0;34m\u001b[0m\u001b[0;34m\u001b[0m\u001b[0m\n\u001b[1;32m      4\u001b[0m \u001b[0mpred_mlp\u001b[0m \u001b[0;34m=\u001b[0m \u001b[0mmlp\u001b[0m\u001b[0;34m.\u001b[0m\u001b[0mpredict\u001b[0m\u001b[0;34m(\u001b[0m\u001b[0mexemplo\u001b[0m\u001b[0;34m)\u001b[0m\u001b[0;34m\u001b[0m\u001b[0;34m\u001b[0m\u001b[0m\n",
            "\u001b[0;31mValueError\u001b[0m: cannot reshape array of size 14 into shape (1,13)"
          ]
        }
      ]
    },
    {
      "metadata": {
        "id": "YHW9BIyl_nCq",
        "colab_type": "code",
        "colab": {}
      },
      "cell_type": "code",
      "source": [
        "print('Exemplo: ', exemplo)\n",
        "print('Predict SVM:', pred_svm)\n",
        "print('Predict MLP', pred_mlp)"
      ],
      "execution_count": 0,
      "outputs": []
    },
    {
      "metadata": {
        "id": "pdYiVEXB_nC2",
        "colab_type": "code",
        "colab": {}
      },
      "cell_type": "code",
      "source": [
        ""
      ],
      "execution_count": 0,
      "outputs": []
    }
  ]
}